{
 "cells": [
  {
   "cell_type": "code",
   "execution_count": 3,
   "metadata": {},
   "outputs": [],
   "source": [
    "import pandas as pd\n",
    "import csv\n",
    "import numpy as np\n",
    "\n",
    "filename = \"data-raw/Tom LD _ Life Story Presentation.txt\"\n",
    "\n",
    "    # Specify model path\n",
    "model_path = \"GloVE/glove.6B/glove.6B.300d.txt\"\n",
    "\n",
    "words = pd.read_table(\n",
    "    model_path, sep=\" \", index_col=0, header=None, quoting=csv.QUOTE_NONE\n",
    ")\n",
    "\n",
    "model_df = pd.read_table(model_path, sep=\" \", index_col=0, header=None, quoting=3)\n",
    "model_dict = {\n",
    "    word: embeddings for word, embeddings in zip(model_df.index, model_df.values)\n",
    "}\n",
    "\n",
    "\n"
   ]
  },
  {
   "cell_type": "code",
   "execution_count": 3,
   "metadata": {},
   "outputs": [],
   "source": [
    "from functions.embeddings_using_pd import get_word_embeddings"
   ]
  },
  {
   "cell_type": "code",
   "execution_count": null,
   "metadata": {},
   "outputs": [],
   "source": [
    "def main():\n",
    "    # Specify file path\n",
    "    filename = \"data-raw/Tom LD _ Life Story Presentation.txt\"\n",
    "\n",
    "    # Specify model path\n",
    "    model_path = \"GloVE/glove.6B/glove.6B.300d.txt\"\n",
    "\n",
    "    embeddings_list = get_word_embeddings(filename, model_path)\n",
    "\n",
    "    print(embeddings_list.head())"
   ]
  }
 ],
 "metadata": {
  "kernelspec": {
   "display_name": "keras",
   "language": "python",
   "name": "python3"
  },
  "language_info": {
   "codemirror_mode": {
    "name": "ipython",
    "version": 3
   },
   "file_extension": ".py",
   "mimetype": "text/x-python",
   "name": "python",
   "nbconvert_exporter": "python",
   "pygments_lexer": "ipython3",
   "version": "3.9.9"
  },
  "orig_nbformat": 4
 },
 "nbformat": 4,
 "nbformat_minor": 2
}
